{
 "cells": [
  {
   "cell_type": "markdown",
   "id": "22eee983",
   "metadata": {},
   "source": [
    "# Loading Data from CSVs"
   ]
  },
  {
   "cell_type": "code",
   "execution_count": 257,
   "id": "938c7c95",
   "metadata": {},
   "outputs": [],
   "source": [
    "#DictReader used because our file contains header\n",
    "\n",
    "import unicodecsv\n",
    "\n",
    "def read_csv(filename):\n",
    "    with open(filename, 'rb') as file:\n",
    "        read_file = unicodecsv.DictReader(file)\n",
    "        return list(read_file)\n",
    "\n",
    "enrollments = read_csv('enrollments.csv')\n",
    "daily_engagement = read_csv('daily_engagement.csv')\n",
    "project_submission = read_csv('project_submissions.csv')"
   ]
  },
  {
   "cell_type": "code",
   "execution_count": 258,
   "id": "5dcd6924",
   "metadata": {},
   "outputs": [
    {
     "data": {
      "text/plain": [
       "{'account_key': '448',\n",
       " 'status': 'canceled',\n",
       " 'join_date': '2014-11-10',\n",
       " 'cancel_date': '2015-01-14',\n",
       " 'days_to_cancel': '65',\n",
       " 'is_udacity': 'True',\n",
       " 'is_canceled': 'True'}"
      ]
     },
     "execution_count": 258,
     "metadata": {},
     "output_type": "execute_result"
    }
   ],
   "source": [
    "enrollments[0]"
   ]
  },
  {
   "cell_type": "code",
   "execution_count": 259,
   "id": "06417b9c",
   "metadata": {},
   "outputs": [
    {
     "data": {
      "text/plain": [
       "{'acct': '0',\n",
       " 'utc_date': '2015-01-09',\n",
       " 'num_courses_visited': '1.0',\n",
       " 'total_minutes_visited': '11.6793745',\n",
       " 'lessons_completed': '0.0',\n",
       " 'projects_completed': '0.0'}"
      ]
     },
     "execution_count": 259,
     "metadata": {},
     "output_type": "execute_result"
    }
   ],
   "source": [
    "daily_engagement[0]"
   ]
  },
  {
   "cell_type": "code",
   "execution_count": 260,
   "id": "3ab2f13d",
   "metadata": {},
   "outputs": [
    {
     "data": {
      "text/plain": [
       "{'creation_date': '2015-01-14',\n",
       " 'completion_date': '2015-01-16',\n",
       " 'assigned_rating': 'UNGRADED',\n",
       " 'account_key': '256',\n",
       " 'lesson_key': '3176718735',\n",
       " 'processing_state': 'EVALUATED'}"
      ]
     },
     "execution_count": 260,
     "metadata": {},
     "output_type": "execute_result"
    }
   ],
   "source": [
    "project_submission[0]"
   ]
  },
  {
   "cell_type": "markdown",
   "id": "7bb6d272",
   "metadata": {},
   "source": [
    "# Adusting Data Types"
   ]
  },
  {
   "cell_type": "code",
   "execution_count": 261,
   "id": "f1c5c51f",
   "metadata": {},
   "outputs": [],
   "source": [
    "from datetime import datetime as dt\n",
    "\n",
    "#take a date as a string and return a python datetime object\n",
    "\n",
    "def parse_date(date):\n",
    "    if date=='':\n",
    "        return None\n",
    "    else:\n",
    "        return dt.strptime(date, '%Y-%m-%d')\n",
    "    \n",
    "    \n",
    "#takes a string which is either an empty string or an integer and return int or none\n",
    "\n",
    "def parse_int(i):\n",
    "    if i=='':\n",
    "        return None\n",
    "    else:\n",
    "        return int(i)"
   ]
  },
  {
   "cell_type": "code",
   "execution_count": 262,
   "id": "11f24311",
   "metadata": {},
   "outputs": [
    {
     "data": {
      "text/plain": [
       "{'account_key': '448',\n",
       " 'status': 'canceled',\n",
       " 'join_date': datetime.datetime(2014, 11, 10, 0, 0),\n",
       " 'cancel_date': datetime.datetime(2015, 1, 14, 0, 0),\n",
       " 'days_to_cancel': 65,\n",
       " 'is_udacity': True,\n",
       " 'is_canceled': True}"
      ]
     },
     "execution_count": 262,
     "metadata": {},
     "output_type": "execute_result"
    }
   ],
   "source": [
    "#let clean up the data types in enrollments.csv\n",
    "\n",
    "for enroll in enrollments:\n",
    "    enroll['cancel_date'] = parse_date(enroll['cancel_date'] )\n",
    "    enroll['join_date'] = parse_date(enroll['join_date'] )\n",
    "    enroll['days_to_cancel'] = parse_int(enroll['days_to_cancel'] )\n",
    "    enroll['is_udacity'] = enroll['is_udacity'] == 'True'\n",
    "    enroll['is_canceled'] = enroll['is_canceled'] == 'True'\n",
    "\n",
    "\n",
    "enrollments[0]"
   ]
  },
  {
   "cell_type": "code",
   "execution_count": 263,
   "id": "4c051591",
   "metadata": {},
   "outputs": [
    {
     "data": {
      "text/plain": [
       "{'acct': '0',\n",
       " 'utc_date': datetime.datetime(2015, 1, 9, 0, 0),\n",
       " 'num_courses_visited': 1,\n",
       " 'total_minutes_visited': 11.6793745,\n",
       " 'lessons_completed': 0,\n",
       " 'projects_completed': 0}"
      ]
     },
     "execution_count": 263,
     "metadata": {},
     "output_type": "execute_result"
    }
   ],
   "source": [
    "#clean up the data of daily_engagement.csv\n",
    "\n",
    "for engagement in daily_engagement:\n",
    "    engagement['utc_date'] = parse_date(engagement['utc_date'])\n",
    "    engagement['num_courses_visited'] = int(float(engagement['num_courses_visited']))\n",
    "    engagement['total_minutes_visited'] = float(engagement['total_minutes_visited'])\n",
    "    engagement['lessons_completed']= int(float(engagement['lessons_completed']))\n",
    "    engagement['projects_completed']= int(float(engagement['projects_completed']))\n",
    "    \n",
    "daily_engagement[0]"
   ]
  },
  {
   "cell_type": "code",
   "execution_count": 264,
   "id": "55bee2f2",
   "metadata": {},
   "outputs": [
    {
     "data": {
      "text/plain": [
       "{'creation_date': datetime.datetime(2015, 1, 14, 0, 0),\n",
       " 'completion_date': datetime.datetime(2015, 1, 16, 0, 0),\n",
       " 'assigned_rating': 'UNGRADED',\n",
       " 'account_key': '256',\n",
       " 'lesson_key': '3176718735',\n",
       " 'processing_state': 'EVALUATED'}"
      ]
     },
     "execution_count": 264,
     "metadata": {},
     "output_type": "execute_result"
    }
   ],
   "source": [
    "# Clean up the data types in the submissions.csv\n",
    "\n",
    "for submission in project_submission:\n",
    "    submission['completion_date'] = parse_date(submission['completion_date'])\n",
    "    submission['creation_date'] = parse_date(submission['creation_date'])\n",
    "\n",
    "project_submission[0]"
   ]
  },
  {
   "cell_type": "markdown",
   "id": "b8f0d775",
   "metadata": {},
   "source": [
    "# Investigating the Data"
   ]
  },
  {
   "cell_type": "code",
   "execution_count": 265,
   "id": "e7c38c70",
   "metadata": {},
   "outputs": [
    {
     "data": {
      "text/plain": [
       "{'utc_date': datetime.datetime(2015, 1, 9, 0, 0),\n",
       " 'num_courses_visited': 1,\n",
       " 'total_minutes_visited': 11.6793745,\n",
       " 'lessons_completed': 0,\n",
       " 'projects_completed': 0,\n",
       " 'account_key': '0'}"
      ]
     },
     "execution_count": 265,
     "metadata": {},
     "output_type": "execute_result"
    }
   ],
   "source": [
    "#Change name of the column 'acct' to 'account_key' in daily engagement table to have similarity with other tables\n",
    "\n",
    "for record in daily_engagement:\n",
    "    record['account_key'] = record['acct']\n",
    "    del [record['acct']]\n",
    "\n",
    "daily_engagement[0]"
   ]
  },
  {
   "cell_type": "code",
   "execution_count": 266,
   "id": "778b2897",
   "metadata": {},
   "outputs": [],
   "source": [
    "#generic function to get unique students from each table\n",
    "\n",
    "def unique_students(data):\n",
    "    unique_students = set()\n",
    "    for student in data:\n",
    "        unique_students.add(student['account_key'])\n",
    "    return unique_students"
   ]
  },
  {
   "cell_type": "code",
   "execution_count": 267,
   "id": "a68e8c06",
   "metadata": {},
   "outputs": [
    {
     "data": {
      "text/plain": [
       "1640"
      ]
     },
     "execution_count": 267,
     "metadata": {},
     "output_type": "execute_result"
    }
   ],
   "source": [
    "#total number of rows or enrollments in enrollments.csv\n",
    "\n",
    "len(enrollments)"
   ]
  },
  {
   "cell_type": "code",
   "execution_count": 268,
   "id": "ed37c680",
   "metadata": {},
   "outputs": [
    {
     "data": {
      "text/plain": [
       "1302"
      ]
     },
     "execution_count": 268,
     "metadata": {},
     "output_type": "execute_result"
    }
   ],
   "source": [
    "#total number of unique enrollments in enrollments.csv\n",
    "\n",
    "unique_enrollment_students = unique_students(enrollments) #enrollments table\n",
    "len(unique_enrollment_students)"
   ]
  },
  {
   "cell_type": "code",
   "execution_count": 269,
   "id": "4ff2803d",
   "metadata": {},
   "outputs": [
    {
     "data": {
      "text/plain": [
       "136240"
      ]
     },
     "execution_count": 269,
     "metadata": {},
     "output_type": "execute_result"
    }
   ],
   "source": [
    "#total rows or engagements in daily_engagement.csv\n",
    "\n",
    "len(daily_engagement)"
   ]
  },
  {
   "cell_type": "code",
   "execution_count": 270,
   "id": "17da4a52",
   "metadata": {},
   "outputs": [
    {
     "data": {
      "text/plain": [
       "1237"
      ]
     },
     "execution_count": 270,
     "metadata": {},
     "output_type": "execute_result"
    }
   ],
   "source": [
    "#total number of unique engagements in daily_engagement.csv\n",
    "\n",
    "unique_daily_engagement_students = unique_students(daily_engagement) #daily_engagement table\n",
    "len(unique_daily_engagement_students)"
   ]
  },
  {
   "cell_type": "code",
   "execution_count": 271,
   "id": "670c4011",
   "metadata": {},
   "outputs": [
    {
     "data": {
      "text/plain": [
       "3642"
      ]
     },
     "execution_count": 271,
     "metadata": {},
     "output_type": "execute_result"
    }
   ],
   "source": [
    "# Total number of submitted projects\n",
    "\n",
    "len(project_submission)"
   ]
  },
  {
   "cell_type": "code",
   "execution_count": 272,
   "id": "2e975c18",
   "metadata": {},
   "outputs": [
    {
     "data": {
      "text/plain": [
       "743"
      ]
     },
     "execution_count": 272,
     "metadata": {},
     "output_type": "execute_result"
    }
   ],
   "source": [
    "#Total number of unique students submitted projects\n",
    "\n",
    "unique_project_submitters = unique_students(project_submission)\n",
    "len(unique_project_submitters)"
   ]
  },
  {
   "cell_type": "markdown",
   "id": "499ab3b1",
   "metadata": {},
   "source": [
    "# Dealing with missing engagement records"
   ]
  },
  {
   "cell_type": "code",
   "execution_count": 273,
   "id": "0d2080fc",
   "metadata": {},
   "outputs": [
    {
     "name": "stdout",
     "output_type": "stream",
     "text": [
      "{'account_key': '1219', 'status': 'canceled', 'join_date': datetime.datetime(2014, 11, 12, 0, 0), 'cancel_date': datetime.datetime(2014, 11, 12, 0, 0), 'days_to_cancel': 0, 'is_udacity': False, 'is_canceled': True}\n"
     ]
    }
   ],
   "source": [
    "#finding a student missing from engagement table (student enrolled but have no engagement)\n",
    " \n",
    "for enroll in enrollments:\n",
    "    student_id = enroll['account_key'] \n",
    "    if student_id not in unique_daily_engagement_students:\n",
    "        print(enroll)\n",
    "        break"
   ]
  },
  {
   "cell_type": "markdown",
   "id": "b694c7b2",
   "metadata": {},
   "source": [
    "#In the above output: joining and cancelling date is exactly the same, and the days_to_cancel is 0 because there is no record in engagment table for that student. Student needs to be enrolled for a full day before their engagment to be recorded"
   ]
  },
  {
   "cell_type": "code",
   "execution_count": 274,
   "id": "1379c175",
   "metadata": {},
   "outputs": [
    {
     "name": "stdout",
     "output_type": "stream",
     "text": [
      "{'account_key': '1304', 'status': 'canceled', 'join_date': datetime.datetime(2015, 1, 10, 0, 0), 'cancel_date': datetime.datetime(2015, 3, 10, 0, 0), 'days_to_cancel': 59, 'is_udacity': True, 'is_canceled': True}\n",
      "{'account_key': '1304', 'status': 'canceled', 'join_date': datetime.datetime(2015, 3, 10, 0, 0), 'cancel_date': datetime.datetime(2015, 6, 17, 0, 0), 'days_to_cancel': 99, 'is_udacity': True, 'is_canceled': True}\n",
      "{'account_key': '1101', 'status': 'current', 'join_date': datetime.datetime(2015, 2, 25, 0, 0), 'cancel_date': None, 'days_to_cancel': None, 'is_udacity': True, 'is_canceled': False}\n"
     ]
    },
    {
     "data": {
      "text/plain": [
       "3"
      ]
     },
     "execution_count": 274,
     "metadata": {},
     "output_type": "execute_result"
    }
   ],
   "source": [
    "#some more surprising data points\n",
    "#These are the students who are enrolled, stayed enrolled atleast a day, but don't have engagement numbers\n",
    "\n",
    "num_prob_students=0\n",
    "for enroll in enrollments:\n",
    "    student_id = enroll['account_key'] \n",
    "    if student_id not in unique_daily_engagement_students and enroll['join_date'] != enroll['cancel_date']:\n",
    "        num_prob_students += 1\n",
    "        print(enroll)\n",
    "\n",
    "num_prob_students"
   ]
  },
  {
   "cell_type": "markdown",
   "id": "dcbfc60b",
   "metadata": {},
   "source": [
    "#In the above output we can see that the field is_udacity : True which means these are test accounts which shouldn't be included in analysis. Next we have to identify all the test data and should exclude it from our analysis"
   ]
  },
  {
   "cell_type": "markdown",
   "id": "75980e00",
   "metadata": {},
   "source": [
    "# Identifying and Removing test data"
   ]
  },
  {
   "cell_type": "code",
   "execution_count": 275,
   "id": "3575aea3",
   "metadata": {},
   "outputs": [
    {
     "data": {
      "text/plain": [
       "6"
      ]
     },
     "execution_count": 275,
     "metadata": {},
     "output_type": "execute_result"
    }
   ],
   "source": [
    "#identifying test accounts\n",
    "test_accounts= set()\n",
    "for enroll in enrollments:\n",
    "    if enroll['is_udacity']:\n",
    "        test_accounts.add(enroll['account_key'])\n",
    "\n",
    "len(test_accounts)"
   ]
  },
  {
   "cell_type": "code",
   "execution_count": 276,
   "id": "8bcfff81",
   "metadata": {},
   "outputs": [],
   "source": [
    "#removing the test accounts\n",
    "\n",
    "def remove_test_accounts(data):\n",
    "    no_test_accounts= []\n",
    "    for each_record in data:\n",
    "        if each_record['account_key'] not in test_accounts:\n",
    "            no_test_accounts.append(each_record)\n",
    "    return no_test_accounts"
   ]
  },
  {
   "cell_type": "code",
   "execution_count": 277,
   "id": "f959a876",
   "metadata": {},
   "outputs": [
    {
     "name": "stdout",
     "output_type": "stream",
     "text": [
      "1622\n",
      "135656\n",
      "3634\n"
     ]
    }
   ],
   "source": [
    "#filtered data without test accounts from all the tables\n",
    "\n",
    "without_test_enrollment_data = remove_test_accounts(enrollments)\n",
    "without_test_engagement_data = remove_test_accounts(daily_engagement)\n",
    "without_test_submission_data = remove_test_accounts(project_submission)\n",
    "\n",
    "print(len(without_test_enrollment_data))\n",
    "print(len(without_test_engagement_data))\n",
    "print(len(without_test_submission_data))"
   ]
  },
  {
   "cell_type": "markdown",
   "id": "40021ac9",
   "metadata": {},
   "source": [
    "# Refining the Question a bit more"
   ]
  },
  {
   "cell_type": "code",
   "execution_count": 278,
   "id": "4f36109f",
   "metadata": {},
   "outputs": [
    {
     "data": {
      "text/plain": [
       "995"
      ]
     },
     "execution_count": 278,
     "metadata": {},
     "output_type": "execute_result"
    }
   ],
   "source": [
    "#Creating a dictionary mapping\n",
    "#students who are successfully enrolled and not yet cancelled the course till 7 days to their most recent joined date\n",
    " \n",
    "paid_reg_students = {}\n",
    "\n",
    "for enroll in without_test_enrollment_data:\n",
    "    if not enroll['is_canceled'] or enroll['days_to_cancel'] > 7:\n",
    "        account_key = enroll['account_key']\n",
    "        enrollment_date= enroll['join_date']\n",
    "        \n",
    "        if account_key not in paid_reg_students or enrollment_date > paid_reg_students[account_key]:#latest enrolled students\n",
    "            paid_reg_students[account_key] = enrollment_date\n",
    "\n",
    "len(paid_reg_students)\n",
    "        "
   ]
  },
  {
   "cell_type": "markdown",
   "id": "5da5272d",
   "metadata": {},
   "source": [
    "# Dealing with the data of First Week"
   ]
  },
  {
   "cell_type": "code",
   "execution_count": 279,
   "id": "53562af7",
   "metadata": {},
   "outputs": [],
   "source": [
    "#first we have to remove the free trials students who have not paid\n",
    "\n",
    "def remove_free_trial_cancels(data):\n",
    "    paid_data_only = []\n",
    "    for row in data:\n",
    "        if row['account_key'] in paid_reg_students:\n",
    "            paid_data_only.append(row)\n",
    "    return paid_data_only"
   ]
  },
  {
   "cell_type": "code",
   "execution_count": 280,
   "id": "60ba55fc",
   "metadata": {},
   "outputs": [
    {
     "name": "stdout",
     "output_type": "stream",
     "text": [
      "1293\n",
      "134549\n",
      "3618\n"
     ]
    }
   ],
   "source": [
    "# Remove data from students who canceled within 7 days from all three csv files\n",
    "\n",
    "paid_enrollments_only= remove_free_trial_cancels(without_test_enrollment_data)\n",
    "paid_engagements_only= remove_free_trial_cancels(without_test_engagement_data)\n",
    "paid_submissions_only= remove_free_trial_cancels(without_test_submission_data)\n",
    "\n",
    "print(len(paid_enrollments_only))\n",
    "print(len(paid_engagements_only))\n",
    "print(len(paid_submissions_only))"
   ]
  },
  {
   "cell_type": "code",
   "execution_count": 281,
   "id": "c767406b",
   "metadata": {},
   "outputs": [],
   "source": [
    "# Create a new binary field with name 'visited' , \n",
    "#which is equal to 1 if the student visited at least one course, and 0 otherwise.\n",
    "\n",
    "for engagement in paid_engagements_only:\n",
    "    if engagement['num_courses_visited'] > 0:\n",
    "        engagement['visited'] = 1\n",
    "    else:\n",
    "        engagement['visited'] = 0"
   ]
  },
  {
   "cell_type": "code",
   "execution_count": 282,
   "id": "bc675903",
   "metadata": {},
   "outputs": [],
   "source": [
    "#takes student's joining date and date of specific engagement record\n",
    "#and returns true if the engagement happened within one week of student's joining date\n",
    "\n",
    "def within_one_week(join_date, engagement_date):\n",
    "    time_diff = engagement_date - join_date\n",
    "    return time_diff.days < 7 and time_diff.days >=0"
   ]
  },
  {
   "cell_type": "code",
   "execution_count": 283,
   "id": "ac8f559c",
   "metadata": {},
   "outputs": [
    {
     "data": {
      "text/plain": [
       "6919"
      ]
     },
     "execution_count": 283,
     "metadata": {},
     "output_type": "execute_result"
    }
   ],
   "source": [
    "#create a list of those students who have engagements in the first week of most recent enrollment\n",
    "paid_engagements_within_first_week = []\n",
    "\n",
    "for engagement_record in paid_engagements_only:\n",
    "    account_key= engagement_record['account_key']\n",
    "    join_date = paid_reg_students[account_key]\n",
    "    engagement_record_date= engagement_record['utc_date']\n",
    "    \n",
    "    if within_one_week(join_date,engagement_record_date): \n",
    "        paid_engagements_within_first_week.append(engagement_record)\n",
    "\n",
    "len(paid_engagements_within_first_week)"
   ]
  },
  {
   "cell_type": "markdown",
   "id": "3e11d52c",
   "metadata": {},
   "source": [
    "# Insights about Student Engagements"
   ]
  },
  {
   "cell_type": "code",
   "execution_count": 284,
   "id": "5dc459c3",
   "metadata": {},
   "outputs": [],
   "source": [
    "from collections import defaultdict\n",
    "\n",
    "#create a dictionary of engagement data grouped by account key\n",
    "#key= account_key fields in the data\n",
    "#values= lists of data points\n",
    "\n",
    "def get_group_data(data, key_field_name):\n",
    "    grouped_data = defaultdict(list)\n",
    "    for data_point in data:\n",
    "        key = data_point[key_field_name]\n",
    "        grouped_data[key].append(data_point)\n",
    "    return grouped_data"
   ]
  },
  {
   "cell_type": "code",
   "execution_count": 285,
   "id": "ee09b0b3",
   "metadata": {},
   "outputs": [],
   "source": [
    "#Here we passed engagement data to create a dictionary of grouped engagements by account key\n",
    "engagement_by_account = get_group_data(paid_engagements_within_first_week, 'account_key')"
   ]
  },
  {
   "cell_type": "code",
   "execution_count": 286,
   "id": "65d0832e",
   "metadata": {},
   "outputs": [],
   "source": [
    "#Now this function takes a dictionary of above grouped data, as well as a field name to be summed over,\n",
    "# and returns a new dictionary with that field summed up and other fields discarded.\n",
    "\n",
    "def sum_grouped_items(grouped_data, field_name):\n",
    "    summed_data = {}\n",
    "    for key, data_points in grouped_data.items():\n",
    "        total = 0\n",
    "        for data_point in data_points:\n",
    "            total += data_point[field_name]\n",
    "            summed_data[key] = total\n",
    "    return summed_data\n",
    "\n",
    "# The keys of the resulting dictionary are the same as the keys of the original,\n",
    "# and the values are numbers containing the total value of the given field across all data points for the\n",
    "# associated key."
   ]
  },
  {
   "cell_type": "markdown",
   "id": "b9b79c90",
   "metadata": {},
   "source": [
    "# Analysis with the field 'Total_minutes_visited'"
   ]
  },
  {
   "cell_type": "code",
   "execution_count": 287,
   "id": "3522bc6b",
   "metadata": {},
   "outputs": [],
   "source": [
    " total_minutes_by_account = sum_grouped_items(engagement_by_account, 'total_minutes_visited')"
   ]
  },
  {
   "cell_type": "code",
   "execution_count": 288,
   "id": "b2eaeb83",
   "metadata": {},
   "outputs": [],
   "source": [
    "#now I am interested to calculate values (keys are irrelevant now)\n",
    " #.values() method will give us only values from this dictionary\n",
    "    \n",
    "total_minutes = list(total_minutes_by_account.values()) "
   ]
  },
  {
   "cell_type": "code",
   "execution_count": 302,
   "id": "4a83a85a",
   "metadata": {},
   "outputs": [
    {
     "name": "stdout",
     "output_type": "stream",
     "text": [
      "Mean: 306.70832675342825\n",
      "Standard Dev: 412.99693340852957\n",
      "Min: 0.0\n",
      "Max: 3564.7332644989997\n"
     ]
    },
    {
     "data": {
      "image/png": "[encoded data removed]",
      "text/plain": [
       "<Figure size 432x288 with 1 Axes>"
      ]
     },
     "metadata": {
      "needs_background": "light"
     },
     "output_type": "display_data"
    }
   ],
   "source": [
    "#summary of the given data along with histogram\n",
    "%matplotlib inline\n",
    "import matplotlib.pyplot as plt\n",
    "import numpy as np\n",
    "\n",
    "def summarize_data(data):\n",
    "    print ('Mean:', np.mean(data))\n",
    "    print ('Standard Dev:', np.std(data))\n",
    "    print ('Min:', np.min(data))\n",
    "    print ('Max:', np.max(data))\n",
    "    plt.hist(data)\n",
    "\n",
    "summarize_data(total_minutes)"
   ]
  },
  {
   "cell_type": "code",
   "execution_count": 290,
   "id": "096bed68",
   "metadata": {},
   "outputs": [
    {
     "data": {
      "text/plain": [
       "3564.7332644989997"
      ]
     },
     "execution_count": 290,
     "metadata": {},
     "output_type": "execute_result"
    }
   ],
   "source": [
    "#to investigate a student who has max number of minutes spent\n",
    "\n",
    "student_with_max_minutes = None\n",
    "max_minutes =0\n",
    "for student, total_min in total_minutes_by_account.items():\n",
    "    if total_min > max_minutes:\n",
    "        max_minutes= total_min\n",
    "        student_with_max_minutes = student\n",
    "\n",
    "max_minutes"
   ]
  },
  {
   "cell_type": "markdown",
   "id": "18ebb85f",
   "metadata": {},
   "source": [
    "# Students with maximum minutes spent"
   ]
  },
  {
   "cell_type": "code",
   "execution_count": 291,
   "id": "59c20818",
   "metadata": {},
   "outputs": [
    {
     "name": "stdout",
     "output_type": "stream",
     "text": [
      "{'utc_date': datetime.datetime(2015, 7, 9, 0, 0), 'num_courses_visited': 4, 'total_minutes_visited': 850.519339666, 'lessons_completed': 4, 'projects_completed': 0, 'account_key': '163', 'visited': 1}\n",
      "{'utc_date': datetime.datetime(2015, 7, 10, 0, 0), 'num_courses_visited': 6, 'total_minutes_visited': 872.633923334, 'lessons_completed': 6, 'projects_completed': 0, 'account_key': '163', 'visited': 1}\n",
      "{'utc_date': datetime.datetime(2015, 7, 11, 0, 0), 'num_courses_visited': 2, 'total_minutes_visited': 777.018903666, 'lessons_completed': 6, 'projects_completed': 0, 'account_key': '163', 'visited': 1}\n",
      "{'utc_date': datetime.datetime(2015, 7, 12, 0, 0), 'num_courses_visited': 1, 'total_minutes_visited': 294.568774, 'lessons_completed': 2, 'projects_completed': 0, 'account_key': '163', 'visited': 1}\n",
      "{'utc_date': datetime.datetime(2015, 7, 13, 0, 0), 'num_courses_visited': 3, 'total_minutes_visited': 471.2139785, 'lessons_completed': 1, 'projects_completed': 0, 'account_key': '163', 'visited': 1}\n",
      "{'utc_date': datetime.datetime(2015, 7, 14, 0, 0), 'num_courses_visited': 2, 'total_minutes_visited': 298.778345333, 'lessons_completed': 1, 'projects_completed': 0, 'account_key': '163', 'visited': 1}\n",
      "{'utc_date': datetime.datetime(2015, 7, 15, 0, 0), 'num_courses_visited': 0, 'total_minutes_visited': 0.0, 'lessons_completed': 0, 'projects_completed': 0, 'account_key': '163', 'visited': 0}\n",
      "total_records_of_max_minutes:  7\n"
     ]
    }
   ],
   "source": [
    "#NOw comparing the student with engagment record\n",
    "#print every engagement record and also total number of such engagements\n",
    "\n",
    "total_records_of_max_minutes=0\n",
    "for engagement_record in paid_engagements_within_first_week:\n",
    "    if engagement_record['account_key']== student_with_max_minutes:\n",
    "        print (engagement_record)\n",
    "        total_records_of_max_minutes +=1\n",
    "    \n",
    "print('total_records_of_max_minutes: ', total_records_of_max_minutes)"
   ]
  },
  {
   "cell_type": "markdown",
   "id": "b3ea1e58",
   "metadata": {},
   "source": [
    "# Analysis with the field 'lessons_completed'"
   ]
  },
  {
   "cell_type": "code",
   "execution_count": 292,
   "id": "63b9ccd2",
   "metadata": {},
   "outputs": [],
   "source": [
    "lessons_completed_by_account = sum_grouped_items(engagement_by_account, 'lessons_completed')"
   ]
  },
  {
   "cell_type": "code",
   "execution_count": 293,
   "id": "006076fd",
   "metadata": {},
   "outputs": [
    {
     "name": "stdout",
     "output_type": "stream",
     "text": [
      "Mean: 1.636180904522613\n",
      "Standard Dev: 3.002561299829423\n",
      "Min: 0\n",
      "Max: 36\n"
     ]
    },
    {
     "data": {
      "image/png": "[encoded data removed]",
      "text/plain": [
       "<Figure size 432x288 with 1 Axes>"
      ]
     },
     "metadata": {
      "needs_background": "light"
     },
     "output_type": "display_data"
    }
   ],
   "source": [
    "summarize_data(list(lessons_completed_by_account.values()))"
   ]
  },
  {
   "cell_type": "markdown",
   "id": "de0f7644",
   "metadata": {},
   "source": [
    "# Analysis with field 'visited'"
   ]
  },
  {
   "cell_type": "code",
   "execution_count": 294,
   "id": "2e7fabb6",
   "metadata": {},
   "outputs": [],
   "source": [
    "days_visited_by_account = sum_grouped_items(engagement_by_account, 'visited')"
   ]
  },
  {
   "cell_type": "code",
   "execution_count": 295,
   "id": "fb480f40",
   "metadata": {},
   "outputs": [
    {
     "name": "stdout",
     "output_type": "stream",
     "text": [
      "Mean: 2.8673366834170855\n",
      "Standard Dev: 2.2551980029196814\n",
      "Min: 0\n",
      "Max: 7\n"
     ]
    },
    {
     "data": {
      "image/png": "[encoded data removed]",
      "text/plain": [
       "<Figure size 432x288 with 1 Axes>"
      ]
     },
     "metadata": {
      "needs_background": "light"
     },
     "output_type": "display_data"
    }
   ],
   "source": [
    "summarize_data(list(days_visited_by_account.values()))"
   ]
  },
  {
   "cell_type": "markdown",
   "id": "bea902b7",
   "metadata": {},
   "source": [
    "# Determining Passed Students"
   ]
  },
  {
   "cell_type": "code",
   "execution_count": 296,
   "id": "0690a06d",
   "metadata": {},
   "outputs": [
    {
     "data": {
      "text/plain": [
       "653"
      ]
     },
     "execution_count": 296,
     "metadata": {},
     "output_type": "execute_result"
    }
   ],
   "source": [
    "#Determine how many students have passed the subway project using table project_submissions.csv\n",
    "#create a set of accounts that passed the subway project\n",
    "\n",
    "subway_project_lesson_keys= ['746169184','3176718735']\n",
    "passed_students_subway_project= set()\n",
    "\n",
    "for submission in project_submission:\n",
    "    project = submission['lesson_key']\n",
    "    rating = submission['assigned_rating']\n",
    "    \n",
    "    if project in subway_project_lesson_keys and (rating == 'PASSED' or rating == 'DISTINCTION'):\n",
    "        passed_students_subway_project.add(submission['account_key'])\n",
    "\n",
    "len(passed_students_subway_project)"
   ]
  },
  {
   "cell_type": "code",
   "execution_count": 297,
   "id": "c1c22fa0",
   "metadata": {},
   "outputs": [
    {
     "name": "stdout",
     "output_type": "stream",
     "text": [
      "4527\n",
      "2392\n"
     ]
    }
   ],
   "source": [
    "#Engagements of students who pass/do not pass the subway project\n",
    "\n",
    "passing_engagement= []\n",
    "non_passing_engagement= []\n",
    "\n",
    "for engagement in paid_engagements_within_first_week:\n",
    "    if engagement['account_key'] in passed_students_subway_project:\n",
    "        passing_engagement.append(engagement)\n",
    "    else:\n",
    "        non_passing_engagement.append(engagement)\n",
    "\n",
    "print(len(passing_engagement))\n",
    "print(len(non_passing_engagement))"
   ]
  },
  {
   "cell_type": "markdown",
   "id": "5dc1ac42",
   "metadata": {},
   "source": [
    "# Comparasion of Both Student Groups"
   ]
  },
  {
   "cell_type": "code",
   "execution_count": 298,
   "id": "56c5c537",
   "metadata": {},
   "outputs": [],
   "source": [
    "passing_engagement_by_account = get_group_data(passing_engagement, 'account_key')\n",
    "non_passing_engagement_by_account = get_group_data(non_passing_engagement, 'account_key')"
   ]
  },
  {
   "cell_type": "code",
   "execution_count": 299,
   "id": "c30172e8",
   "metadata": {},
   "outputs": [
    {
     "name": "stdout",
     "output_type": "stream",
     "text": [
      "Non-passing students:\n",
      "Mean: 143.32647426675584\n",
      "Standard Dev: 269.5386190114951\n",
      "Min: 0.0\n",
      "Max: 1768.5227493319999\n"
     ]
    },
    {
     "data": {
      "image/png": "[encoded data removed]",
      "text/plain": [
       "<Figure size 432x288 with 1 Axes>"
      ]
     },
     "metadata": {
      "needs_background": "light"
     },
     "output_type": "display_data"
    },
    {
     "name": "stdout",
     "output_type": "stream",
     "text": [
      "Passing students:\n",
      "Mean: 394.58604648350865\n",
      "Standard Dev: 448.4995193265521\n",
      "Min: 0.0\n",
      "Max: 3564.7332644989997\n"
     ]
    },
    {
     "data": {
      "image/png": "[encoded data removed]",
      "text/plain": [
       "<Figure size 432x288 with 1 Axes>"
      ]
     },
     "metadata": {
      "needs_background": "light"
     },
     "output_type": "display_data"
    }
   ],
   "source": [
    "#Total Minutes spent COMPARASION\n",
    "\n",
    "print ('Non-passing students:')\n",
    "non_passing_minutes = sum_grouped_items(non_passing_engagement_by_account, 'total_minutes_visited')\n",
    "summarize_data(list(non_passing_minutes.values()))\n",
    "\n",
    "\n",
    "# Adding plt.show() after each plot, to show each plot seperately\n",
    "plt.show()\n",
    "\n",
    "print ('Passing students:')\n",
    "passing_minutes = sum_grouped_items(passing_engagement_by_account, 'total_minutes_visited')\n",
    "summarize_data(list(passing_minutes.values()))\n",
    "\n",
    "plt.show()"
   ]
  },
  {
   "cell_type": "code",
   "execution_count": 300,
   "id": "7fd04fce",
   "metadata": {},
   "outputs": [
    {
     "name": "stdout",
     "output_type": "stream",
     "text": [
      "non-passing students:\n",
      "Mean: 0.8620689655172413\n",
      "Standard Dev: 2.5491599418312028\n",
      "Min: 0\n",
      "Max: 27\n"
     ]
    },
    {
     "data": {
      "image/png": "[encoded data removed]",
      "text/plain": [
       "<Figure size 432x288 with 1 Axes>"
      ]
     },
     "metadata": {
      "needs_background": "light"
     },
     "output_type": "display_data"
    },
    {
     "name": "stdout",
     "output_type": "stream",
     "text": [
      "passing students:\n",
      "Mean: 2.052550231839258\n",
      "Standard Dev: 3.1422270555779344\n",
      "Min: 0\n",
      "Max: 36\n"
     ]
    },
    {
     "data": {
      "image/png": "[encoded data removed]",
      "text/plain": [
       "<Figure size 432x288 with 1 Axes>"
      ]
     },
     "metadata": {
      "needs_background": "light"
     },
     "output_type": "display_data"
    }
   ],
   "source": [
    "#Comparasion of Total Lessons Completed\n",
    "\n",
    "print ('non-passing students:')\n",
    "non_passing_lessons = sum_grouped_items(non_passing_engagement_by_account, 'lessons_completed')\n",
    "summarize_data(list(non_passing_lessons.values()))\n",
    "\n",
    "plt.show()\n",
    "\n",
    "print ('passing students:')\n",
    "passing_lessons = sum_grouped_items(passing_engagement_by_account, 'lessons_completed')\n",
    "summarize_data(list(passing_lessons.values()))\n",
    "\n",
    "plt.show()"
   ]
  },
  {
   "cell_type": "code",
   "execution_count": 301,
   "id": "cb64bf9a",
   "metadata": {},
   "outputs": [
    {
     "name": "stdout",
     "output_type": "stream",
     "text": [
      "non-passing students:\n",
      "Mean: 1.9051724137931034\n",
      "Standard Dev: 1.9057314413619046\n",
      "Min: 0\n",
      "Max: 7\n"
     ]
    },
    {
     "data": {
      "image/png": "[encoded data removed]",
      "text/plain": [
       "<Figure size 432x288 with 1 Axes>"
      ]
     },
     "metadata": {
      "needs_background": "light"
     },
     "output_type": "display_data"
    },
    {
     "name": "stdout",
     "output_type": "stream",
     "text": [
      "passing students:\n",
      "Mean: 3.384853168469861\n",
      "Standard Dev: 2.2588214709184595\n",
      "Min: 0\n",
      "Max: 7\n"
     ]
    },
    {
     "data": {
      "image/png": "[encoded data removed]",
      "text/plain": [
       "<Figure size 432x288 with 1 Axes>"
      ]
     },
     "metadata": {
      "needs_background": "light"
     },
     "output_type": "display_data"
    }
   ],
   "source": [
    "#Comparasion of Total Visits\n",
    "\n",
    "print ('non-passing students:')\n",
    "non_passing_visits = sum_grouped_items(non_passing_engagement_by_account, 'visited')\n",
    "summarize_data(list(non_passing_visits.values()))\n",
    "\n",
    "plt.show()\n",
    "\n",
    "print ('passing students:')\n",
    "passing_visits = sum_grouped_items(passing_engagement_by_account, 'visited')\n",
    "summarize_data(list(passing_visits.values()))\n",
    "\n",
    "plt.show()"
   ]
  },
  {
   "cell_type": "code",
   "execution_count": null,
   "id": "9f59bb95",
   "metadata": {},
   "outputs": [],
   "source": []
  }
 ],
 "metadata": {
  "kernelspec": {
   "display_name": "Python 3",
   "language": "python",
   "name": "python3"
  },
  "language_info": {
   "codemirror_mode": {
    "name": "ipython",
    "version": 3
   },
   "file_extension": ".py",
   "mimetype": "text/x-python",
   "name": "python",
   "nbconvert_exporter": "python",
   "pygments_lexer": "ipython3",
   "version": "3.8.8"
  }
 },
 "nbformat": 4,
 "nbformat_minor": 5
}
